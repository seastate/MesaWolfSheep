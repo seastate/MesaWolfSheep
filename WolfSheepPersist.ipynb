{
 "cells": [
  {
   "cell_type": "code",
   "execution_count": null,
   "id": "3c4486f0-c1e5-45b1-b107-69604d6c772b",
   "metadata": {
    "jupyter": {
     "source_hidden": true
    }
   },
   "outputs": [],
   "source": [
    "from agents import GrassPatch, Sheep, Wolf\n",
    "from model import WolfSheep\n",
    "from mesa.experimental.devs import ABMSimulator\n",
    "from mesa.visualization import (\n",
    "    CommandConsole,\n",
    "    Slider,\n",
    "    SolaraViz,\n",
    "    SpaceRenderer,\n",
    "    make_plot_component,\n",
    ")\n",
    "from mesa.visualization.components import AgentPortrayalStyle\n",
    "#from app import model_params,post_process_space#, post_process_lines"
   ]
  },
  {
   "cell_type": "code",
   "execution_count": null,
   "id": "41429d1e-d8ce-4795-ae96-281248cb50de",
   "metadata": {
    "jupyter": {
     "source_hidden": true
    }
   },
   "outputs": [],
   "source": [
    "#from ipywidgets import interact, interactive, fixed, interact_manual\n",
    "import ipywidgets as widgets\n",
    "\n",
    "#mark_size = 25*2\n",
    "#grid_width = 50\n",
    "#grid_height = 50\n",
    "\n",
    "LabelGrid = widgets.Label(value=r\"\\(\\textbf{Grid Properties}\\)\",\n",
    "                         layout=widgets.Layout(display=\"flex\", \n",
    "                                               #justify_content=\"center\", \n",
    "                                               width=\"100%\"))\n",
    "mark_size=widgets.FloatText(value=50,width=20,description = r\"Marker Size\")\n",
    "grid_width=widgets.FloatText(value=20,description = \"Width\")\n",
    "grid_height=widgets.FloatText(value=20,description = \"Height\")\n",
    "\n",
    "ui1 = widgets.VBox([LabelGrid,mark_size,grid_width,grid_height])\n",
    "display(ui1)"
   ]
  },
  {
   "cell_type": "code",
   "execution_count": null,
   "id": "45f8397a-16d6-4b1c-8549-337418e7e418",
   "metadata": {},
   "outputs": [],
   "source": []
  },
  {
   "cell_type": "code",
   "execution_count": null,
   "id": "1f61d3fd-5ef4-4783-b6b2-c12209a3e963",
   "metadata": {
    "jupyter": {
     "source_hidden": true
    }
   },
   "outputs": [],
   "source": [
    "from app import model_params,post_process_space, post_process_lines\n",
    "\n",
    "def wolf_sheep_portrayal2(agent,marker_size=int(mark_size.value)):\n",
    "    if agent is None:\n",
    "        return\n",
    "\n",
    "    portrayal = AgentPortrayalStyle(\n",
    "        size=marker_size,\n",
    "        marker=\"o\",\n",
    "        zorder=2,\n",
    "    )\n",
    "\n",
    "    if isinstance(agent, Wolf):\n",
    "        portrayal.update((\"color\", \"black\"))\n",
    "    elif isinstance(agent, Sheep):\n",
    "        portrayal.update((\"color\", \"white\"))\n",
    "    elif isinstance(agent, GrassPatch):\n",
    "        if agent.fully_grown:\n",
    "            portrayal.update((\"color\", \"tab:green\"))\n",
    "        else:\n",
    "            portrayal.update((\"color\", \"tab:brown\"))\n",
    "        portrayal.update((\"marker\", \"s\"), (\"size\", 125), (\"zorder\", 1))\n",
    "\n",
    "    return portrayal\n",
    "\n",
    "lineplot_component = make_plot_component(\n",
    "    {\"Wolves\": \"black\", \"Sheep\": \"tab:gray\", \"Grass\": \"tab:green\"},\n",
    "    post_process=post_process_lines,\n",
    ")\n",
    "\n",
    "\n",
    "simulator = ABMSimulator()\n",
    "# NOTE: the width and height arguments in SolaraViz appear to be reversed in their effect on the displayed grid\n",
    "model = WolfSheep(simulator=simulator, grass=True,width=int(grid_height.value),height=int(grid_width.value))\n",
    "\n",
    "renderer = SpaceRenderer(\n",
    "    model,\n",
    "    backend=\"matplotlib\",\n",
    ")\n",
    "renderer.draw_agents(wolf_sheep_portrayal2)\n",
    "renderer.post_process = post_process_space\n",
    "\n",
    "page = SolaraViz(\n",
    "    model,\n",
    "    renderer,\n",
    "    components=[lineplot_component, CommandConsole],\n",
    "    model_params=model_params,\n",
    "    name=\"Wolf Sheep\",\n",
    "    simulator=simulator,\n",
    ")\n",
    "page  # noqa"
   ]
  },
  {
   "cell_type": "code",
   "execution_count": null,
   "id": "bd61e2c7-078e-4c97-aac5-06b51992e687",
   "metadata": {},
   "outputs": [],
   "source": []
  }
 ],
 "metadata": {
  "kernelspec": {
   "display_name": "Python 3 (ipykernel)",
   "language": "python",
   "name": "python3"
  },
  "language_info": {
   "codemirror_mode": {
    "name": "ipython",
    "version": 3
   },
   "file_extension": ".py",
   "mimetype": "text/x-python",
   "name": "python",
   "nbconvert_exporter": "python",
   "pygments_lexer": "ipython3",
   "version": "3.12.11"
  }
 },
 "nbformat": 4,
 "nbformat_minor": 5
}
